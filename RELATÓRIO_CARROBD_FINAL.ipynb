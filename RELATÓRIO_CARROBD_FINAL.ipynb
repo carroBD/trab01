{
 "cells": [
  {
   "cell_type": "markdown",
   "metadata": {},
   "source": [
    "# Conexão com postgres e Relatorios do Sistema"
   ]
  },
  {
   "cell_type": "markdown",
   "metadata": {},
   "source": [
    "## Instalando biblioteca de acesso com postgres e manipulação de dados e gráficos"
   ]
  },
  {
   "cell_type": "code",
   "execution_count": 1,
   "metadata": {},
   "outputs": [
    {
     "name": "stdout",
     "output_type": "stream",
     "text": [
      "Requirement already satisfied: psycopg2-binary in c:\\users\\harri\\appdata\\roaming\\python\\python37\\site-packages (2.7.6.1)\n"
     ]
    },
    {
     "name": "stderr",
     "output_type": "stream",
     "text": [
      "twisted 18.7.0 requires PyHamcrest>=1.9.0, which is not installed.\n",
      "You are using pip version 10.0.1, however version 18.1 is available.\n",
      "You should consider upgrading via the 'python -m pip install --upgrade pip' command.\n"
     ]
    },
    {
     "name": "stdout",
     "output_type": "stream",
     "text": [
      "Requirement already satisfied: seaborn in d:\\programas instalados\\anaconda\\lib\\site-packages (0.9.0)\n",
      "Requirement already satisfied: pandas>=0.15.2 in d:\\programas instalados\\anaconda\\lib\\site-packages (from seaborn) (0.23.4)\n",
      "Requirement already satisfied: scipy>=0.14.0 in d:\\programas instalados\\anaconda\\lib\\site-packages (from seaborn) (1.1.0)\n",
      "Requirement already satisfied: matplotlib>=1.4.3 in d:\\programas instalados\\anaconda\\lib\\site-packages (from seaborn) (2.2.3)\n",
      "Requirement already satisfied: numpy>=1.9.3 in d:\\programas instalados\\anaconda\\lib\\site-packages (from seaborn) (1.15.1)\n",
      "Requirement already satisfied: python-dateutil>=2.5.0 in d:\\programas instalados\\anaconda\\lib\\site-packages (from pandas>=0.15.2->seaborn) (2.7.3)\n",
      "Requirement already satisfied: pytz>=2011k in d:\\programas instalados\\anaconda\\lib\\site-packages (from pandas>=0.15.2->seaborn) (2018.5)\n",
      "Requirement already satisfied: cycler>=0.10 in d:\\programas instalados\\anaconda\\lib\\site-packages (from matplotlib>=1.4.3->seaborn) (0.10.0)\n",
      "Requirement already satisfied: pyparsing!=2.0.4,!=2.1.2,!=2.1.6,>=2.0.1 in d:\\programas instalados\\anaconda\\lib\\site-packages (from matplotlib>=1.4.3->seaborn) (2.2.0)\n",
      "Requirement already satisfied: six>=1.10 in d:\\programas instalados\\anaconda\\lib\\site-packages (from matplotlib>=1.4.3->seaborn) (1.11.0)\n",
      "Requirement already satisfied: kiwisolver>=1.0.1 in d:\\programas instalados\\anaconda\\lib\\site-packages (from matplotlib>=1.4.3->seaborn) (1.0.1)\n",
      "Requirement already satisfied: setuptools in d:\\programas instalados\\anaconda\\lib\\site-packages (from kiwisolver>=1.0.1->matplotlib>=1.4.3->seaborn) (40.2.0)\n"
     ]
    },
    {
     "name": "stderr",
     "output_type": "stream",
     "text": [
      "twisted 18.7.0 requires PyHamcrest>=1.9.0, which is not installed.\n",
      "You are using pip version 10.0.1, however version 18.1 is available.\n",
      "You should consider upgrading via the 'python -m pip install --upgrade pip' command.\n"
     ]
    },
    {
     "name": "stdout",
     "output_type": "stream",
     "text": [
      "Requirement already satisfied: pandas in d:\\programas instalados\\anaconda\\lib\\site-packages (0.23.4)\n",
      "Requirement already satisfied: python-dateutil>=2.5.0 in d:\\programas instalados\\anaconda\\lib\\site-packages (from pandas) (2.7.3)\n",
      "Requirement already satisfied: pytz>=2011k in d:\\programas instalados\\anaconda\\lib\\site-packages (from pandas) (2018.5)\n",
      "Requirement already satisfied: numpy>=1.9.0 in d:\\programas instalados\\anaconda\\lib\\site-packages (from pandas) (1.15.1)\n",
      "Requirement already satisfied: six>=1.5 in d:\\programas instalados\\anaconda\\lib\\site-packages (from python-dateutil>=2.5.0->pandas) (1.11.0)\n"
     ]
    },
    {
     "name": "stderr",
     "output_type": "stream",
     "text": [
      "twisted 18.7.0 requires PyHamcrest>=1.9.0, which is not installed.\n",
      "You are using pip version 10.0.1, however version 18.1 is available.\n",
      "You should consider upgrading via the 'python -m pip install --upgrade pip' command.\n"
     ]
    }
   ],
   "source": [
    "!pip install --user psycopg2-binary\n",
    "!pip install --user seaborn\n",
    "!pip install --user pandas"
   ]
  },
  {
   "cell_type": "markdown",
   "metadata": {},
   "source": [
    "### Importando bibliotecas"
   ]
  },
  {
   "cell_type": "code",
   "execution_count": 2,
   "metadata": {},
   "outputs": [],
   "source": [
    "import seaborn as sns\n",
    "import pandas as pd\n",
    "import psycopg2"
   ]
  },
  {
   "cell_type": "markdown",
   "metadata": {},
   "source": [
    "### Usando psycopg2 para configurar conexão"
   ]
  },
  {
   "cell_type": "code",
   "execution_count": 3,
   "metadata": {},
   "outputs": [],
   "source": [
    "conn = psycopg2.connect(host=\"localhost\",database=\"FINAL_CarroBD\", user=\"postgres\", password=\"101417ha\")"
   ]
  },
  {
   "cell_type": "markdown",
   "metadata": {},
   "source": [
    "## Obtendo dados do database com Pandas"
   ]
  },
  {
   "cell_type": "markdown",
   "metadata": {},
   "source": [
    "# Relatório 1"
   ]
  },
  {
   "cell_type": "markdown",
   "metadata": {},
   "source": [
    "### OBJETIVO: OBTER DADOS SOBRE A SITUAÇÃO DO CARRO DO CLIENTE.\n",
    "OS DADOS RELACIONAM NOME DO MOTORISTA, PLACA DO VEÍCULO E NOME DO SENSOR, JUNTO COM O ESTADO DA PEÇA DO RESPECTIVO VEÍCULO ANALISADO PELO SENSOR."
   ]
  },
  {
   "cell_type": "markdown",
   "metadata": {},
   "source": [
    "CODIFICAÇÃO PARA OBTENÇÃO DO RESULTADO:"
   ]
  },
  {
   "cell_type": "code",
   "execution_count": 12,
   "metadata": {},
   "outputs": [],
   "source": [
    "test = pd.read_sql_query(\"\"\"\n",
    "        SELECT NOME, PLACA, NOME_SENSOR,ESTADO_PECA FROM PESSOA\n",
    "\t\tINNER JOIN VEICULO ON (PESSOA.ID_PESSOA = VEICULO.FK_PESSOA_ID_PESSOA)\n",
    "\t\tINNER JOIN SENSORES ON (VEICULO.ID_VEICULO = SENSORES.FK_VEICULO_ID_VEICULO)\n",
    "\t\tINNER JOIN GERAM ON (SENSORES.ID_SENSOR = GERAM.FK_SENSORES_ID_SENSOR)\n",
    "        \n",
    "\t\tGROUP BY NOME, PLACA, NOME_SENSOR,ESTADO_PECA\n",
    "\t\tLIMIT 20;\n",
    "                            \"\"\",conn)"
   ]
  },
  {
   "cell_type": "code",
   "execution_count": 13,
   "metadata": {},
   "outputs": [
    {
     "data": {
      "text/html": [
       "<div>\n",
       "<style scoped>\n",
       "    .dataframe tbody tr th:only-of-type {\n",
       "        vertical-align: middle;\n",
       "    }\n",
       "\n",
       "    .dataframe tbody tr th {\n",
       "        vertical-align: top;\n",
       "    }\n",
       "\n",
       "    .dataframe thead th {\n",
       "        text-align: right;\n",
       "    }\n",
       "</style>\n",
       "<table border=\"1\" class=\"dataframe\">\n",
       "  <thead>\n",
       "    <tr style=\"text-align: right;\">\n",
       "      <th></th>\n",
       "      <th>nome</th>\n",
       "      <th>placa</th>\n",
       "      <th>nome_sensor</th>\n",
       "      <th>estado_peca</th>\n",
       "    </tr>\n",
       "  </thead>\n",
       "  <tbody>\n",
       "    <tr>\n",
       "      <th>0</th>\n",
       "      <td>Gessica Reis</td>\n",
       "      <td>XXJ-1892</td>\n",
       "      <td>cb45</td>\n",
       "      <td>1</td>\n",
       "    </tr>\n",
       "    <tr>\n",
       "      <th>1</th>\n",
       "      <td>Vitória</td>\n",
       "      <td>KKR-6652</td>\n",
       "      <td>cb34</td>\n",
       "      <td>1</td>\n",
       "    </tr>\n",
       "    <tr>\n",
       "      <th>2</th>\n",
       "      <td>Gessica</td>\n",
       "      <td>TOE-1018</td>\n",
       "      <td>cs19</td>\n",
       "      <td>1</td>\n",
       "    </tr>\n",
       "    <tr>\n",
       "      <th>3</th>\n",
       "      <td>Vitorino</td>\n",
       "      <td>DNO-1839</td>\n",
       "      <td>dev36</td>\n",
       "      <td>0</td>\n",
       "    </tr>\n",
       "    <tr>\n",
       "      <th>4</th>\n",
       "      <td>Naiara Azevedo</td>\n",
       "      <td>SDR-2856</td>\n",
       "      <td>dev46</td>\n",
       "      <td>0</td>\n",
       "    </tr>\n",
       "    <tr>\n",
       "      <th>5</th>\n",
       "      <td>Sebastião</td>\n",
       "      <td>XAD-2192</td>\n",
       "      <td>ac30</td>\n",
       "      <td>0</td>\n",
       "    </tr>\n",
       "    <tr>\n",
       "      <th>6</th>\n",
       "      <td>Adriana</td>\n",
       "      <td>DNU-9526</td>\n",
       "      <td>tla1</td>\n",
       "      <td>1</td>\n",
       "    </tr>\n",
       "    <tr>\n",
       "      <th>7</th>\n",
       "      <td>Sebastião</td>\n",
       "      <td>XAD-2192</td>\n",
       "      <td>dev30</td>\n",
       "      <td>0</td>\n",
       "    </tr>\n",
       "    <tr>\n",
       "      <th>8</th>\n",
       "      <td>Alexandre</td>\n",
       "      <td>LHJ-5783</td>\n",
       "      <td>fa5</td>\n",
       "      <td>1</td>\n",
       "    </tr>\n",
       "    <tr>\n",
       "      <th>9</th>\n",
       "      <td>Thais Mazioli</td>\n",
       "      <td>ZLS-6228</td>\n",
       "      <td>pa48</td>\n",
       "      <td>0</td>\n",
       "    </tr>\n",
       "    <tr>\n",
       "      <th>10</th>\n",
       "      <td>Fernando Carvalho</td>\n",
       "      <td>WHJ-5574</td>\n",
       "      <td>pa43</td>\n",
       "      <td>1</td>\n",
       "    </tr>\n",
       "    <tr>\n",
       "      <th>11</th>\n",
       "      <td>Vitória</td>\n",
       "      <td>KKR-6652</td>\n",
       "      <td>dev34</td>\n",
       "      <td>1</td>\n",
       "    </tr>\n",
       "    <tr>\n",
       "      <th>12</th>\n",
       "      <td>Patrícia</td>\n",
       "      <td>CHE-2302</td>\n",
       "      <td>ac25</td>\n",
       "      <td>0</td>\n",
       "    </tr>\n",
       "    <tr>\n",
       "      <th>13</th>\n",
       "      <td>Naiara Azevedo</td>\n",
       "      <td>SDR-2856</td>\n",
       "      <td>pa46</td>\n",
       "      <td>1</td>\n",
       "    </tr>\n",
       "    <tr>\n",
       "      <th>14</th>\n",
       "      <td>Thaís</td>\n",
       "      <td>MSF-4040</td>\n",
       "      <td>abs33</td>\n",
       "      <td>1</td>\n",
       "    </tr>\n",
       "    <tr>\n",
       "      <th>15</th>\n",
       "      <td>Otávio</td>\n",
       "      <td>NNP-4543</td>\n",
       "      <td>pa24</td>\n",
       "      <td>1</td>\n",
       "    </tr>\n",
       "    <tr>\n",
       "      <th>16</th>\n",
       "      <td>Gessica</td>\n",
       "      <td>TOE-1018</td>\n",
       "      <td>fe19</td>\n",
       "      <td>1</td>\n",
       "    </tr>\n",
       "    <tr>\n",
       "      <th>17</th>\n",
       "      <td>Gustavo</td>\n",
       "      <td>FLO-0022</td>\n",
       "      <td>fe16</td>\n",
       "      <td>0</td>\n",
       "    </tr>\n",
       "    <tr>\n",
       "      <th>18</th>\n",
       "      <td>Barbara</td>\n",
       "      <td>ZZJ-3203</td>\n",
       "      <td>cs9</td>\n",
       "      <td>0</td>\n",
       "    </tr>\n",
       "    <tr>\n",
       "      <th>19</th>\n",
       "      <td>Kaio Kaiado</td>\n",
       "      <td>DMP-7482</td>\n",
       "      <td>cs41</td>\n",
       "      <td>1</td>\n",
       "    </tr>\n",
       "  </tbody>\n",
       "</table>\n",
       "</div>"
      ],
      "text/plain": [
       "                 nome     placa nome_sensor  estado_peca\n",
       "0        Gessica Reis  XXJ-1892        cb45            1\n",
       "1             Vitória  KKR-6652        cb34            1\n",
       "2             Gessica  TOE-1018        cs19            1\n",
       "3            Vitorino  DNO-1839       dev36            0\n",
       "4     Naiara Azevedo   SDR-2856       dev46            0\n",
       "5           Sebastião  XAD-2192        ac30            0\n",
       "6             Adriana  DNU-9526        tla1            1\n",
       "7           Sebastião  XAD-2192       dev30            0\n",
       "8           Alexandre  LHJ-5783         fa5            1\n",
       "9       Thais Mazioli  ZLS-6228        pa48            0\n",
       "10  Fernando Carvalho  WHJ-5574        pa43            1\n",
       "11            Vitória  KKR-6652       dev34            1\n",
       "12           Patrícia  CHE-2302        ac25            0\n",
       "13    Naiara Azevedo   SDR-2856        pa46            1\n",
       "14              Thaís  MSF-4040       abs33            1\n",
       "15             Otávio  NNP-4543        pa24            1\n",
       "16            Gessica  TOE-1018        fe19            1\n",
       "17            Gustavo  FLO-0022        fe16            0\n",
       "18            Barbara  ZZJ-3203         cs9            0\n",
       "19        Kaio Kaiado  DMP-7482        cs41            1"
      ]
     },
     "execution_count": 13,
     "metadata": {},
     "output_type": "execute_result"
    }
   ],
   "source": [
    "test"
   ]
  },
  {
   "cell_type": "markdown",
   "metadata": {},
   "source": [
    "ESPECIFICAÇÃO DA BUSCA: DADOS SOBRE A SITUAÇÃO DO CARRO DE UM DETERMINADO USUÁRIO."
   ]
  },
  {
   "cell_type": "code",
   "execution_count": 201,
   "metadata": {},
   "outputs": [],
   "source": [
    "especif = pd.read_sql_query(\"\"\"SELECT NOME, PLACA, NOME_SENSOR,ESTADO_PECA FROM PESSOA\n",
    "\t\tINNER JOIN VEICULO ON (PESSOA.ID_PESSOA = VEICULO.FK_PESSOA_ID_PESSOA)\n",
    "\t\tINNER JOIN SENSORES ON (VEICULO.ID_VEICULO = SENSORES.FK_VEICULO_ID_VEICULO)\n",
    "\t\tINNER JOIN GERAM ON (SENSORES.ID_SENSOR = GERAM.FK_SENSORES_ID_SENSOR)\n",
    "        WHERE NOME = 'Adriana'\n",
    "\t\tGROUP BY NOME, PLACA, NOME_SENSOR,ESTADO_PECA\"\"\",conn)"
   ]
  },
  {
   "cell_type": "code",
   "execution_count": 202,
   "metadata": {},
   "outputs": [
    {
     "data": {
      "text/html": [
       "<div>\n",
       "<style scoped>\n",
       "    .dataframe tbody tr th:only-of-type {\n",
       "        vertical-align: middle;\n",
       "    }\n",
       "\n",
       "    .dataframe tbody tr th {\n",
       "        vertical-align: top;\n",
       "    }\n",
       "\n",
       "    .dataframe thead th {\n",
       "        text-align: right;\n",
       "    }\n",
       "</style>\n",
       "<table border=\"1\" class=\"dataframe\">\n",
       "  <thead>\n",
       "    <tr style=\"text-align: right;\">\n",
       "      <th></th>\n",
       "      <th>nome</th>\n",
       "      <th>placa</th>\n",
       "      <th>nome_sensor</th>\n",
       "      <th>estado_peca</th>\n",
       "    </tr>\n",
       "  </thead>\n",
       "  <tbody>\n",
       "    <tr>\n",
       "      <th>0</th>\n",
       "      <td>Adriana</td>\n",
       "      <td>DNU-9526</td>\n",
       "      <td>abs1</td>\n",
       "      <td>0</td>\n",
       "    </tr>\n",
       "    <tr>\n",
       "      <th>1</th>\n",
       "      <td>Adriana</td>\n",
       "      <td>DNU-9526</td>\n",
       "      <td>ac1</td>\n",
       "      <td>1</td>\n",
       "    </tr>\n",
       "    <tr>\n",
       "      <th>2</th>\n",
       "      <td>Adriana</td>\n",
       "      <td>DNU-9526</td>\n",
       "      <td>cb1</td>\n",
       "      <td>0</td>\n",
       "    </tr>\n",
       "    <tr>\n",
       "      <th>3</th>\n",
       "      <td>Adriana</td>\n",
       "      <td>DNU-9526</td>\n",
       "      <td>cb1</td>\n",
       "      <td>1</td>\n",
       "    </tr>\n",
       "    <tr>\n",
       "      <th>4</th>\n",
       "      <td>Adriana</td>\n",
       "      <td>DNU-9526</td>\n",
       "      <td>cs1</td>\n",
       "      <td>1</td>\n",
       "    </tr>\n",
       "    <tr>\n",
       "      <th>5</th>\n",
       "      <td>Adriana</td>\n",
       "      <td>DNU-9526</td>\n",
       "      <td>dev1</td>\n",
       "      <td>0</td>\n",
       "    </tr>\n",
       "    <tr>\n",
       "      <th>6</th>\n",
       "      <td>Adriana</td>\n",
       "      <td>DNU-9526</td>\n",
       "      <td>f1</td>\n",
       "      <td>0</td>\n",
       "    </tr>\n",
       "    <tr>\n",
       "      <th>7</th>\n",
       "      <td>Adriana</td>\n",
       "      <td>DNU-9526</td>\n",
       "      <td>f1</td>\n",
       "      <td>1</td>\n",
       "    </tr>\n",
       "    <tr>\n",
       "      <th>8</th>\n",
       "      <td>Adriana</td>\n",
       "      <td>DNU-9526</td>\n",
       "      <td>fa1</td>\n",
       "      <td>0</td>\n",
       "    </tr>\n",
       "    <tr>\n",
       "      <th>9</th>\n",
       "      <td>Adriana</td>\n",
       "      <td>DNU-9526</td>\n",
       "      <td>fe1</td>\n",
       "      <td>0</td>\n",
       "    </tr>\n",
       "    <tr>\n",
       "      <th>10</th>\n",
       "      <td>Adriana</td>\n",
       "      <td>DNU-9526</td>\n",
       "      <td>fe1</td>\n",
       "      <td>1</td>\n",
       "    </tr>\n",
       "    <tr>\n",
       "      <th>11</th>\n",
       "      <td>Adriana</td>\n",
       "      <td>DNU-9526</td>\n",
       "      <td>fm1</td>\n",
       "      <td>1</td>\n",
       "    </tr>\n",
       "    <tr>\n",
       "      <th>12</th>\n",
       "      <td>Adriana</td>\n",
       "      <td>DNU-9526</td>\n",
       "      <td>nc1</td>\n",
       "      <td>1</td>\n",
       "    </tr>\n",
       "    <tr>\n",
       "      <th>13</th>\n",
       "      <td>Adriana</td>\n",
       "      <td>DNU-9526</td>\n",
       "      <td>pa1</td>\n",
       "      <td>0</td>\n",
       "    </tr>\n",
       "    <tr>\n",
       "      <th>14</th>\n",
       "      <td>Adriana</td>\n",
       "      <td>DNU-9526</td>\n",
       "      <td>pff1</td>\n",
       "      <td>1</td>\n",
       "    </tr>\n",
       "    <tr>\n",
       "      <th>15</th>\n",
       "      <td>Adriana</td>\n",
       "      <td>DNU-9526</td>\n",
       "      <td>pol1</td>\n",
       "      <td>0</td>\n",
       "    </tr>\n",
       "    <tr>\n",
       "      <th>16</th>\n",
       "      <td>Adriana</td>\n",
       "      <td>DNU-9526</td>\n",
       "      <td>pol1</td>\n",
       "      <td>1</td>\n",
       "    </tr>\n",
       "    <tr>\n",
       "      <th>17</th>\n",
       "      <td>Adriana</td>\n",
       "      <td>DNU-9526</td>\n",
       "      <td>tla1</td>\n",
       "      <td>1</td>\n",
       "    </tr>\n",
       "  </tbody>\n",
       "</table>\n",
       "</div>"
      ],
      "text/plain": [
       "       nome     placa nome_sensor  estado_peca\n",
       "0   Adriana  DNU-9526        abs1            0\n",
       "1   Adriana  DNU-9526         ac1            1\n",
       "2   Adriana  DNU-9526         cb1            0\n",
       "3   Adriana  DNU-9526         cb1            1\n",
       "4   Adriana  DNU-9526         cs1            1\n",
       "5   Adriana  DNU-9526        dev1            0\n",
       "6   Adriana  DNU-9526          f1            0\n",
       "7   Adriana  DNU-9526          f1            1\n",
       "8   Adriana  DNU-9526         fa1            0\n",
       "9   Adriana  DNU-9526         fe1            0\n",
       "10  Adriana  DNU-9526         fe1            1\n",
       "11  Adriana  DNU-9526         fm1            1\n",
       "12  Adriana  DNU-9526         nc1            1\n",
       "13  Adriana  DNU-9526         pa1            0\n",
       "14  Adriana  DNU-9526        pff1            1\n",
       "15  Adriana  DNU-9526        pol1            0\n",
       "16  Adriana  DNU-9526        pol1            1\n",
       "17  Adriana  DNU-9526        tla1            1"
      ]
     },
     "execution_count": 202,
     "metadata": {},
     "output_type": "execute_result"
    }
   ],
   "source": [
    "especif"
   ]
  },
  {
   "cell_type": "markdown",
   "metadata": {},
   "source": [
    "# Relatorio2"
   ]
  },
  {
   "cell_type": "markdown",
   "metadata": {},
   "source": [
    "### Objetivo: MOSTRAR QUAIS COMPONENTES DO CARRO QUEBRAM COM MAIS FREQUÊNCIA;\n",
    "OS DADOS RELACIONAM DESCRICAO DO ERRO IDENTIFICADO PELO SENSOR COM AS FALHAS REGISTRADAS NO SISTEMA, MOSTRANDO QUAL DOS COMPONENTES DO VEÍCULO APRESENTOU MAIS FALHA."
   ]
  },
  {
   "cell_type": "markdown",
   "metadata": {},
   "source": [
    "CÓDIGO PARA OBTENÇÃO DE RESULTADO:"
   ]
  },
  {
   "cell_type": "code",
   "execution_count": 203,
   "metadata": {},
   "outputs": [],
   "source": [
    "result = pd.read_sql_query(\"\"\"\n",
    "                            SELECT DESCRICAO, COUNT(DESCRICAO) AS QUEBRAS FROM SENSORES\n",
    "\tINNER JOIN GERAM ON (SENSORES.ID_SENSOR = GERAM.FK_SENSORES_ID_SENSOR)\n",
    "\tWHERE ESTADO_PECA = 1\n",
    "\tGROUP BY DESCRICAO\n",
    "    ORDER BY QUEBRAS DESC;\n",
    "                            \"\"\",conn)"
   ]
  },
  {
   "cell_type": "code",
   "execution_count": 204,
   "metadata": {},
   "outputs": [
    {
     "data": {
      "text/html": [
       "<div>\n",
       "<style scoped>\n",
       "    .dataframe tbody tr th:only-of-type {\n",
       "        vertical-align: middle;\n",
       "    }\n",
       "\n",
       "    .dataframe tbody tr th {\n",
       "        vertical-align: top;\n",
       "    }\n",
       "\n",
       "    .dataframe thead th {\n",
       "        text-align: right;\n",
       "    }\n",
       "</style>\n",
       "<table border=\"1\" class=\"dataframe\">\n",
       "  <thead>\n",
       "    <tr style=\"text-align: right;\">\n",
       "      <th></th>\n",
       "      <th>descricao</th>\n",
       "      <th>quebras</th>\n",
       "    </tr>\n",
       "  </thead>\n",
       "  <tbody>\n",
       "    <tr>\n",
       "      <th>0</th>\n",
       "      <td>Fróis de milha</td>\n",
       "      <td>32</td>\n",
       "    </tr>\n",
       "    <tr>\n",
       "      <th>1</th>\n",
       "      <td>Cinto de segurança</td>\n",
       "      <td>32</td>\n",
       "    </tr>\n",
       "    <tr>\n",
       "      <th>2</th>\n",
       "      <td>Faróis</td>\n",
       "      <td>31</td>\n",
       "    </tr>\n",
       "    <tr>\n",
       "      <th>3</th>\n",
       "      <td>Faról alto</td>\n",
       "      <td>29</td>\n",
       "    </tr>\n",
       "    <tr>\n",
       "      <th>4</th>\n",
       "      <td>Freio de estacionamento</td>\n",
       "      <td>29</td>\n",
       "    </tr>\n",
       "    <tr>\n",
       "      <th>5</th>\n",
       "      <td>Ar condicionado</td>\n",
       "      <td>29</td>\n",
       "    </tr>\n",
       "    <tr>\n",
       "      <th>6</th>\n",
       "      <td>Carga da bateria</td>\n",
       "      <td>27</td>\n",
       "    </tr>\n",
       "    <tr>\n",
       "      <th>7</th>\n",
       "      <td>Nível de combustível</td>\n",
       "      <td>27</td>\n",
       "    </tr>\n",
       "    <tr>\n",
       "      <th>8</th>\n",
       "      <td>Temperatura do líquido de arrefecimento</td>\n",
       "      <td>26</td>\n",
       "    </tr>\n",
       "    <tr>\n",
       "      <th>9</th>\n",
       "      <td>Pressão do fluido do freio</td>\n",
       "      <td>26</td>\n",
       "    </tr>\n",
       "    <tr>\n",
       "      <th>10</th>\n",
       "      <td>Portas abertas</td>\n",
       "      <td>25</td>\n",
       "    </tr>\n",
       "    <tr>\n",
       "      <th>11</th>\n",
       "      <td>Pressão do óleo lubrificante</td>\n",
       "      <td>25</td>\n",
       "    </tr>\n",
       "    <tr>\n",
       "      <th>12</th>\n",
       "      <td>Desembaçador elétrico de vidros</td>\n",
       "      <td>22</td>\n",
       "    </tr>\n",
       "    <tr>\n",
       "      <th>13</th>\n",
       "      <td>Freios ABS</td>\n",
       "      <td>21</td>\n",
       "    </tr>\n",
       "  </tbody>\n",
       "</table>\n",
       "</div>"
      ],
      "text/plain": [
       "                                  descricao  quebras\n",
       "0                            Fróis de milha       32\n",
       "1                        Cinto de segurança       32\n",
       "2                                    Faróis       31\n",
       "3                                Faról alto       29\n",
       "4                   Freio de estacionamento       29\n",
       "5                           Ar condicionado       29\n",
       "6                          Carga da bateria       27\n",
       "7                      Nível de combustível       27\n",
       "8   Temperatura do líquido de arrefecimento       26\n",
       "9                Pressão do fluido do freio       26\n",
       "10                           Portas abertas       25\n",
       "11             Pressão do óleo lubrificante       25\n",
       "12          Desembaçador elétrico de vidros       22\n",
       "13                               Freios ABS       21"
      ]
     },
     "execution_count": 204,
     "metadata": {},
     "output_type": "execute_result"
    }
   ],
   "source": [
    "result"
   ]
  },
  {
   "cell_type": "markdown",
   "metadata": {},
   "source": [
    "GRÁFICO DA TABELA ACIMA REPRESETADO POR ESQUEMA DE COR. (QUANTO MAIS ESCURO, MAIOR É A INCIDÊNCIA)."
   ]
  },
  {
   "cell_type": "code",
   "execution_count": 196,
   "metadata": {},
   "outputs": [
    {
     "data": {
      "text/html": [
       "<style  type=\"text/css\" >\n",
       "    #T_0870efae_faec_11e8_b4f0_e0d55e6e5436row0_col1 {\n",
       "            background-color:  #0000ff;\n",
       "        }    #T_0870efae_faec_11e8_b4f0_e0d55e6e5436row1_col1 {\n",
       "            background-color:  #0000ff;\n",
       "        }    #T_0870efae_faec_11e8_b4f0_e0d55e6e5436row2_col1 {\n",
       "            background-color:  #1515ff;\n",
       "        }    #T_0870efae_faec_11e8_b4f0_e0d55e6e5436row3_col1 {\n",
       "            background-color:  #3e3eff;\n",
       "        }    #T_0870efae_faec_11e8_b4f0_e0d55e6e5436row4_col1 {\n",
       "            background-color:  #3e3eff;\n",
       "        }    #T_0870efae_faec_11e8_b4f0_e0d55e6e5436row5_col1 {\n",
       "            background-color:  #3e3eff;\n",
       "        }    #T_0870efae_faec_11e8_b4f0_e0d55e6e5436row6_col1 {\n",
       "            background-color:  #6868ff;\n",
       "        }    #T_0870efae_faec_11e8_b4f0_e0d55e6e5436row7_col1 {\n",
       "            background-color:  #6868ff;\n",
       "        }    #T_0870efae_faec_11e8_b4f0_e0d55e6e5436row8_col1 {\n",
       "            background-color:  #7d7dff;\n",
       "        }    #T_0870efae_faec_11e8_b4f0_e0d55e6e5436row9_col1 {\n",
       "            background-color:  #7d7dff;\n",
       "        }    #T_0870efae_faec_11e8_b4f0_e0d55e6e5436row10_col1 {\n",
       "            background-color:  #9292ff;\n",
       "        }    #T_0870efae_faec_11e8_b4f0_e0d55e6e5436row11_col1 {\n",
       "            background-color:  #9292ff;\n",
       "        }    #T_0870efae_faec_11e8_b4f0_e0d55e6e5436row12_col1 {\n",
       "            background-color:  #d1d1ff;\n",
       "        }    #T_0870efae_faec_11e8_b4f0_e0d55e6e5436row13_col1 {\n",
       "            background-color:  #e5e5ff;\n",
       "        }</style>  \n",
       "<table id=\"T_0870efae_faec_11e8_b4f0_e0d55e6e5436\" > \n",
       "<thead>    <tr> \n",
       "        <th class=\"blank level0\" ></th> \n",
       "        <th class=\"col_heading level0 col0\" >descricao</th> \n",
       "        <th class=\"col_heading level0 col1\" >quebras</th> \n",
       "    </tr></thead> \n",
       "<tbody>    <tr> \n",
       "        <th id=\"T_0870efae_faec_11e8_b4f0_e0d55e6e5436level0_row0\" class=\"row_heading level0 row0\" >0</th> \n",
       "        <td id=\"T_0870efae_faec_11e8_b4f0_e0d55e6e5436row0_col0\" class=\"data row0 col0\" >Fróis de milha</td> \n",
       "        <td id=\"T_0870efae_faec_11e8_b4f0_e0d55e6e5436row0_col1\" class=\"data row0 col1\" >32</td> \n",
       "    </tr>    <tr> \n",
       "        <th id=\"T_0870efae_faec_11e8_b4f0_e0d55e6e5436level0_row1\" class=\"row_heading level0 row1\" >1</th> \n",
       "        <td id=\"T_0870efae_faec_11e8_b4f0_e0d55e6e5436row1_col0\" class=\"data row1 col0\" >Cinto de segurança</td> \n",
       "        <td id=\"T_0870efae_faec_11e8_b4f0_e0d55e6e5436row1_col1\" class=\"data row1 col1\" >32</td> \n",
       "    </tr>    <tr> \n",
       "        <th id=\"T_0870efae_faec_11e8_b4f0_e0d55e6e5436level0_row2\" class=\"row_heading level0 row2\" >2</th> \n",
       "        <td id=\"T_0870efae_faec_11e8_b4f0_e0d55e6e5436row2_col0\" class=\"data row2 col0\" >Faróis</td> \n",
       "        <td id=\"T_0870efae_faec_11e8_b4f0_e0d55e6e5436row2_col1\" class=\"data row2 col1\" >31</td> \n",
       "    </tr>    <tr> \n",
       "        <th id=\"T_0870efae_faec_11e8_b4f0_e0d55e6e5436level0_row3\" class=\"row_heading level0 row3\" >3</th> \n",
       "        <td id=\"T_0870efae_faec_11e8_b4f0_e0d55e6e5436row3_col0\" class=\"data row3 col0\" >Faról alto</td> \n",
       "        <td id=\"T_0870efae_faec_11e8_b4f0_e0d55e6e5436row3_col1\" class=\"data row3 col1\" >29</td> \n",
       "    </tr>    <tr> \n",
       "        <th id=\"T_0870efae_faec_11e8_b4f0_e0d55e6e5436level0_row4\" class=\"row_heading level0 row4\" >4</th> \n",
       "        <td id=\"T_0870efae_faec_11e8_b4f0_e0d55e6e5436row4_col0\" class=\"data row4 col0\" >Freio de estacionamento</td> \n",
       "        <td id=\"T_0870efae_faec_11e8_b4f0_e0d55e6e5436row4_col1\" class=\"data row4 col1\" >29</td> \n",
       "    </tr>    <tr> \n",
       "        <th id=\"T_0870efae_faec_11e8_b4f0_e0d55e6e5436level0_row5\" class=\"row_heading level0 row5\" >5</th> \n",
       "        <td id=\"T_0870efae_faec_11e8_b4f0_e0d55e6e5436row5_col0\" class=\"data row5 col0\" >Ar condicionado</td> \n",
       "        <td id=\"T_0870efae_faec_11e8_b4f0_e0d55e6e5436row5_col1\" class=\"data row5 col1\" >29</td> \n",
       "    </tr>    <tr> \n",
       "        <th id=\"T_0870efae_faec_11e8_b4f0_e0d55e6e5436level0_row6\" class=\"row_heading level0 row6\" >6</th> \n",
       "        <td id=\"T_0870efae_faec_11e8_b4f0_e0d55e6e5436row6_col0\" class=\"data row6 col0\" >Carga da bateria</td> \n",
       "        <td id=\"T_0870efae_faec_11e8_b4f0_e0d55e6e5436row6_col1\" class=\"data row6 col1\" >27</td> \n",
       "    </tr>    <tr> \n",
       "        <th id=\"T_0870efae_faec_11e8_b4f0_e0d55e6e5436level0_row7\" class=\"row_heading level0 row7\" >7</th> \n",
       "        <td id=\"T_0870efae_faec_11e8_b4f0_e0d55e6e5436row7_col0\" class=\"data row7 col0\" >Nível de combustível</td> \n",
       "        <td id=\"T_0870efae_faec_11e8_b4f0_e0d55e6e5436row7_col1\" class=\"data row7 col1\" >27</td> \n",
       "    </tr>    <tr> \n",
       "        <th id=\"T_0870efae_faec_11e8_b4f0_e0d55e6e5436level0_row8\" class=\"row_heading level0 row8\" >8</th> \n",
       "        <td id=\"T_0870efae_faec_11e8_b4f0_e0d55e6e5436row8_col0\" class=\"data row8 col0\" >Temperatura do líquido de arrefecimento</td> \n",
       "        <td id=\"T_0870efae_faec_11e8_b4f0_e0d55e6e5436row8_col1\" class=\"data row8 col1\" >26</td> \n",
       "    </tr>    <tr> \n",
       "        <th id=\"T_0870efae_faec_11e8_b4f0_e0d55e6e5436level0_row9\" class=\"row_heading level0 row9\" >9</th> \n",
       "        <td id=\"T_0870efae_faec_11e8_b4f0_e0d55e6e5436row9_col0\" class=\"data row9 col0\" >Pressão do fluido do freio</td> \n",
       "        <td id=\"T_0870efae_faec_11e8_b4f0_e0d55e6e5436row9_col1\" class=\"data row9 col1\" >26</td> \n",
       "    </tr>    <tr> \n",
       "        <th id=\"T_0870efae_faec_11e8_b4f0_e0d55e6e5436level0_row10\" class=\"row_heading level0 row10\" >10</th> \n",
       "        <td id=\"T_0870efae_faec_11e8_b4f0_e0d55e6e5436row10_col0\" class=\"data row10 col0\" >Portas abertas</td> \n",
       "        <td id=\"T_0870efae_faec_11e8_b4f0_e0d55e6e5436row10_col1\" class=\"data row10 col1\" >25</td> \n",
       "    </tr>    <tr> \n",
       "        <th id=\"T_0870efae_faec_11e8_b4f0_e0d55e6e5436level0_row11\" class=\"row_heading level0 row11\" >11</th> \n",
       "        <td id=\"T_0870efae_faec_11e8_b4f0_e0d55e6e5436row11_col0\" class=\"data row11 col0\" >Pressão do óleo lubrificante</td> \n",
       "        <td id=\"T_0870efae_faec_11e8_b4f0_e0d55e6e5436row11_col1\" class=\"data row11 col1\" >25</td> \n",
       "    </tr>    <tr> \n",
       "        <th id=\"T_0870efae_faec_11e8_b4f0_e0d55e6e5436level0_row12\" class=\"row_heading level0 row12\" >12</th> \n",
       "        <td id=\"T_0870efae_faec_11e8_b4f0_e0d55e6e5436row12_col0\" class=\"data row12 col0\" >Desembaçador elétrico de vidros</td> \n",
       "        <td id=\"T_0870efae_faec_11e8_b4f0_e0d55e6e5436row12_col1\" class=\"data row12 col1\" >22</td> \n",
       "    </tr>    <tr> \n",
       "        <th id=\"T_0870efae_faec_11e8_b4f0_e0d55e6e5436level0_row13\" class=\"row_heading level0 row13\" >13</th> \n",
       "        <td id=\"T_0870efae_faec_11e8_b4f0_e0d55e6e5436row13_col0\" class=\"data row13 col0\" >Freios ABS</td> \n",
       "        <td id=\"T_0870efae_faec_11e8_b4f0_e0d55e6e5436row13_col1\" class=\"data row13 col1\" >21</td> \n",
       "    </tr></tbody> \n",
       "</table> "
      ],
      "text/plain": [
       "<pandas.io.formats.style.Styler at 0x14925c0f710>"
      ]
     },
     "execution_count": 196,
     "metadata": {},
     "output_type": "execute_result"
    }
   ],
   "source": [
    "df = pd.DataFrame(result)\n",
    "cm = sns.light_palette(\"blue\", as_cmap=True)\n",
    "df.style.background_gradient(cmap=cm)\n"
   ]
  },
  {
   "cell_type": "markdown",
   "metadata": {},
   "source": [
    "## Relatório 3"
   ]
  },
  {
   "cell_type": "markdown",
   "metadata": {},
   "source": [
    "### OBJETIVO: OBTER OS REGISTROS DAS CHAMADAS DE MECÂNICOS POR ESPECIALIZAÇÃO;\n",
    "OS DADOS RELACIONAM ESPECIALIZACAO DO MECANICO E SUAS ID'S NO SISTEMA, CONTABILIZANDO QUANTAS VEZES A ESPECIALIZAÇÃO FOI CHAMADA DENTRO DO SISTEMA;"
   ]
  },
  {
   "cell_type": "markdown",
   "metadata": {},
   "source": [
    "CÓDIGO PARA OBTENÇÃO DO RESULTADO"
   ]
  },
  {
   "cell_type": "code",
   "execution_count": 197,
   "metadata": {},
   "outputs": [],
   "source": [
    "result = pd.read_sql_query(\"\"\"\n",
    "                            SELECT ESPECIALIZACAO, COUNT(ESPECIALIZACAO) AS CHAMADAS FROM PESSOA\n",
    "\t\tINNER JOIN MECANICO ON (PESSOA.ID_PESSOA = MECANICO.FK_PESSOA_ID_PESSOA)\n",
    "\t\tINNER JOIN CONTRATA ON (MECANICO.FK_PESSOA_ID_PESSOA= CONTRATA.FK_MECANICO_FK_PESSOA_ID_PESSOA)\n",
    "\t\tGROUP BY ESPECIALIZACAO\n",
    "\t\t;\n",
    "                            \"\"\",conn)"
   ]
  },
  {
   "cell_type": "code",
   "execution_count": 198,
   "metadata": {
    "scrolled": true
   },
   "outputs": [
    {
     "data": {
      "text/html": [
       "<div>\n",
       "<style scoped>\n",
       "    .dataframe tbody tr th:only-of-type {\n",
       "        vertical-align: middle;\n",
       "    }\n",
       "\n",
       "    .dataframe tbody tr th {\n",
       "        vertical-align: top;\n",
       "    }\n",
       "\n",
       "    .dataframe thead th {\n",
       "        text-align: right;\n",
       "    }\n",
       "</style>\n",
       "<table border=\"1\" class=\"dataframe\">\n",
       "  <thead>\n",
       "    <tr style=\"text-align: right;\">\n",
       "      <th></th>\n",
       "      <th>especializacao</th>\n",
       "      <th>chamadas</th>\n",
       "    </tr>\n",
       "  </thead>\n",
       "  <tbody>\n",
       "    <tr>\n",
       "      <th>0</th>\n",
       "      <td>Borracharia</td>\n",
       "      <td>35</td>\n",
       "    </tr>\n",
       "    <tr>\n",
       "      <th>1</th>\n",
       "      <td>Lanterneiro</td>\n",
       "      <td>42</td>\n",
       "    </tr>\n",
       "    <tr>\n",
       "      <th>2</th>\n",
       "      <td>Mecânica</td>\n",
       "      <td>46</td>\n",
       "    </tr>\n",
       "    <tr>\n",
       "      <th>3</th>\n",
       "      <td>Elétrica</td>\n",
       "      <td>33</td>\n",
       "    </tr>\n",
       "  </tbody>\n",
       "</table>\n",
       "</div>"
      ],
      "text/plain": [
       "  especializacao  chamadas\n",
       "0    Borracharia        35\n",
       "1    Lanterneiro        42\n",
       "2       Mecânica        46\n",
       "3       Elétrica        33"
      ]
     },
     "execution_count": 198,
     "metadata": {},
     "output_type": "execute_result"
    }
   ],
   "source": [
    "result"
   ]
  },
  {
   "cell_type": "raw",
   "metadata": {},
   "source": [
    "GRÁFICO DA TABELA ACIMA"
   ]
  },
  {
   "cell_type": "code",
   "execution_count": 199,
   "metadata": {},
   "outputs": [
    {
     "data": {
      "image/png": "[encoded data removed]",
      "text/plain": [
       "<Figure size 640x480 with 1 Axes>"
      ]
     },
     "metadata": {},
     "output_type": "display_data"
    }
   ],
   "source": [
    "df = pd.DataFrame(result)\n",
    "cm = sns.light_palette(\"green\", as_cmap=True)\n",
    "df.style.background_gradient(cmap=cm)\n",
    "\n",
    "import matplotlib.pyplot as plt; plt.rcdefaults()\n",
    "import numpy as np\n",
    "import matplotlib.pyplot as plt\n",
    " \n",
    "objects = tuple(df.especializacao)\n",
    "y_pos = np.arange(len(objects))\n",
    "performance = list(df.chamadas)\n",
    " \n",
    "plt.bar(y_pos, performance, align='center', alpha=1.0)\n",
    "plt.xticks(y_pos, objects)\n",
    "plt.ylabel('NÚMERO DE CHAMADAS NO SISTEMA')\n",
    "plt.title('ESPECIALIZAÇÃO')\n",
    " \n",
    "plt.show()"
   ]
  },
  {
   "cell_type": "markdown",
   "metadata": {},
   "source": [
    "## Relatório 4"
   ]
  },
  {
   "cell_type": "markdown",
   "metadata": {},
   "source": [
    "### OBJETIVO: OBTER OS MODELOS QUE MAIS APRESENTARAM PEÇAS COM FALHA REGISTRADAS NO SISTEMA.\n",
    "OS DADOS RELACIONAM MODELOS REGISTRADOS NO SISTEMA COM QUANTIDADES DE FALHAS DE SEUS COMPONENTES, INDICANDO QUAL MODELO TEVE MAIS FALHA."
   ]
  },
  {
   "cell_type": "markdown",
   "metadata": {},
   "source": [
    "CODIFICAÇÃO PARA OBTENÇÃO DO RESULTADO:"
   ]
  },
  {
   "cell_type": "code",
   "execution_count": 200,
   "metadata": {},
   "outputs": [],
   "source": [
    "result = pd.read_sql_query(\"\"\"\n",
    "                            SELECT MODELO_VEICULO, ESTADO_PECA, count(*) AS NUMERO_FALHAS FROM VEICULO\n",
    "\t\tINNER JOIN MODELO ON (VEICULO.FK_MODELO_ID_MODELO = MODELO.ID_MODELO)\n",
    "\t\tINNER JOIN SENSORES ON (VEICULO.ID_VEICULO = SENSORES.FK_VEICULO_ID_VEICULO)\n",
    "\t\tINNER JOIN GERAM ON (SENSORES.ID_SENSOR = GERAM.FK_SENSORES_ID_SENSOR)\n",
    "\t\tWHERE ESTADO_PECA = 1 GROUP BY MODELO_VEICULO, ESTADO_PECA;\n",
    "                            \"\"\",conn)"
   ]
  },
  {
   "cell_type": "code",
   "execution_count": 83,
   "metadata": {},
   "outputs": [
    {
     "data": {
      "text/html": [
       "<div>\n",
       "<style scoped>\n",
       "    .dataframe tbody tr th:only-of-type {\n",
       "        vertical-align: middle;\n",
       "    }\n",
       "\n",
       "    .dataframe tbody tr th {\n",
       "        vertical-align: top;\n",
       "    }\n",
       "\n",
       "    .dataframe thead th {\n",
       "        text-align: right;\n",
       "    }\n",
       "</style>\n",
       "<table border=\"1\" class=\"dataframe\">\n",
       "  <thead>\n",
       "    <tr style=\"text-align: right;\">\n",
       "      <th></th>\n",
       "      <th>modelo_veiculo</th>\n",
       "      <th>estado_peca</th>\n",
       "      <th>numero_falhas</th>\n",
       "    </tr>\n",
       "  </thead>\n",
       "  <tbody>\n",
       "    <tr>\n",
       "      <th>0</th>\n",
       "      <td>POP 110I</td>\n",
       "      <td>1</td>\n",
       "      <td>32</td>\n",
       "    </tr>\n",
       "    <tr>\n",
       "      <th>1</th>\n",
       "      <td>BENTLEY CONTINENTAL FLYING SPUR</td>\n",
       "      <td>1</td>\n",
       "      <td>17</td>\n",
       "    </tr>\n",
       "    <tr>\n",
       "      <th>2</th>\n",
       "      <td>ACCELO</td>\n",
       "      <td>1</td>\n",
       "      <td>47</td>\n",
       "    </tr>\n",
       "    <tr>\n",
       "      <th>3</th>\n",
       "      <td>CB TWISTER</td>\n",
       "      <td>1</td>\n",
       "      <td>24</td>\n",
       "    </tr>\n",
       "    <tr>\n",
       "      <th>4</th>\n",
       "      <td>CAMARO</td>\n",
       "      <td>1</td>\n",
       "      <td>30</td>\n",
       "    </tr>\n",
       "    <tr>\n",
       "      <th>5</th>\n",
       "      <td>DB9</td>\n",
       "      <td>1</td>\n",
       "      <td>50</td>\n",
       "    </tr>\n",
       "    <tr>\n",
       "      <th>6</th>\n",
       "      <td>MARRUA X5</td>\n",
       "      <td>1</td>\n",
       "      <td>26</td>\n",
       "    </tr>\n",
       "    <tr>\n",
       "      <th>7</th>\n",
       "      <td>CELER</td>\n",
       "      <td>1</td>\n",
       "      <td>35</td>\n",
       "    </tr>\n",
       "    <tr>\n",
       "      <th>8</th>\n",
       "      <td>300C</td>\n",
       "      <td>1</td>\n",
       "      <td>32</td>\n",
       "    </tr>\n",
       "    <tr>\n",
       "      <th>9</th>\n",
       "      <td>I3</td>\n",
       "      <td>1</td>\n",
       "      <td>12</td>\n",
       "    </tr>\n",
       "    <tr>\n",
       "      <th>10</th>\n",
       "      <td>E5</td>\n",
       "      <td>1</td>\n",
       "      <td>69</td>\n",
       "    </tr>\n",
       "    <tr>\n",
       "      <th>11</th>\n",
       "      <td>A1</td>\n",
       "      <td>1</td>\n",
       "      <td>7</td>\n",
       "    </tr>\n",
       "  </tbody>\n",
       "</table>\n",
       "</div>"
      ],
      "text/plain": [
       "                     modelo_veiculo  estado_peca  numero_falhas\n",
       "0                          POP 110I            1             32\n",
       "1   BENTLEY CONTINENTAL FLYING SPUR            1             17\n",
       "2                            ACCELO            1             47\n",
       "3                        CB TWISTER            1             24\n",
       "4                            CAMARO            1             30\n",
       "5                               DB9            1             50\n",
       "6                         MARRUA X5            1             26\n",
       "7                             CELER            1             35\n",
       "8                              300C            1             32\n",
       "9                                I3            1             12\n",
       "10                               E5            1             69\n",
       "11                               A1            1              7"
      ]
     },
     "execution_count": 83,
     "metadata": {},
     "output_type": "execute_result"
    }
   ],
   "source": [
    "result"
   ]
  },
  {
   "cell_type": "code",
   "execution_count": 84,
   "metadata": {},
   "outputs": [
    {
     "data": {
      "image/png": "[encoded data removed]",
      "text/plain": [
       "<Figure size 640x480 with 1 Axes>"
      ]
     },
     "metadata": {},
     "output_type": "display_data"
    }
   ],
   "source": [
    "df = pd.DataFrame(result)\n",
    "cm = sns.light_palette(\"blue\", as_cmap=True)\n",
    "df.style.background_gradient(cmap=cm)\n",
    "\n",
    "import matplotlib.pyplot as plt; plt.rcdefaults()\n",
    "import numpy as np\n",
    "import matplotlib.pyplot as plt\n",
    " \n",
    "objects = tuple(df.modelo_veiculo)\n",
    "y_pos = np.arange(len(objects))\n",
    "performance = list(df.numero_falhas)\n",
    " \n",
    "plt.bar(y_pos, performance, align='center', alpha=1)\n",
    "plt.xticks(y_pos, objects)\n",
    "plt.ylabel('Número de falhas')\n",
    "plt.title('Modelos')\n",
    " \n",
    "plt.show()"
   ]
  },
  {
   "cell_type": "markdown",
   "metadata": {},
   "source": [
    "# RELATÓRIO 5"
   ]
  },
  {
   "cell_type": "markdown",
   "metadata": {},
   "source": [
    "## Objetivo: Definir um perfil dos motoristas de acordo com a idade.\n",
    "OS DADOS RELACIONAM IDADE DOS MOTORISTAS COM NÚMERO DE FALHAS NOS SEUS VEÍCULOS, PODENDO ASSIM, GERAR A POSSIBILIDADE DE TRAÇAR UM PERFIL DOS MOTORISTAS DE ACORDO COM A IDADE E RESPECTIVAS FALHAS NOS SEUS VEÍCULOS."
   ]
  },
  {
   "cell_type": "code",
   "execution_count": 192,
   "metadata": {},
   "outputs": [],
   "source": [
    "result = pd.read_sql_query(\"\"\"\n",
    "                            SELECT \n",
    "\tCOUNT (CASE WHEN  date_part('year',age(data_nascimento)) BETWEEN 18 AND 25 THEN 'ate 25' END) AS \"18 A 25\",\n",
    "\tCOUNT (CASE WHEN  date_part('year',age(data_nascimento)) BETWEEN 26 AND 35 THEN 'de 26 a 35' END) AS \"26 A 35\",\n",
    "\tCOUNT (CASE WHEN  date_part('year',age(data_nascimento)) BETWEEN 36 AND 50 THEN 'de 36 a 50' END) AS \"36 A 50\",\n",
    "\tCOUNT (CASE WHEN  date_part('year',age(data_nascimento)) BETWEEN 50 AND 120 THEN 'de 50+' END) AS \"50 PRA CIMA\"\n",
    "\t\t\t\t\t\t\t  \n",
    "\tFROM PESSOA\n",
    "\tiNNER JOIN VEICULO ON (PESSOA.ID_PESSOA = VEICULO.FK_PESSOA_ID_PESSOA)\n",
    "\tINNER JOIN SENSORES ON (VEICULO.ID_VEICULO = SENSORES.FK_VEICULO_ID_VEICULO)\n",
    "\tINNER JOIN GERAM ON (SENSORES.ID_SENSOR = GERAM.FK_SENSORES_ID_SENSOR)\n",
    "\tWHERE ESTADO_PECA = 0;\n",
    "                            \"\"\",conn)"
   ]
  },
  {
   "cell_type": "code",
   "execution_count": 193,
   "metadata": {
    "scrolled": true
   },
   "outputs": [
    {
     "data": {
      "text/html": [
       "<div>\n",
       "<style scoped>\n",
       "    .dataframe tbody tr th:only-of-type {\n",
       "        vertical-align: middle;\n",
       "    }\n",
       "\n",
       "    .dataframe tbody tr th {\n",
       "        vertical-align: top;\n",
       "    }\n",
       "\n",
       "    .dataframe thead th {\n",
       "        text-align: right;\n",
       "    }\n",
       "</style>\n",
       "<table border=\"1\" class=\"dataframe\">\n",
       "  <thead>\n",
       "    <tr style=\"text-align: right;\">\n",
       "      <th></th>\n",
       "      <th>18 A 25</th>\n",
       "      <th>26 A 35</th>\n",
       "      <th>36 A 50</th>\n",
       "      <th>50 PRA CIMA</th>\n",
       "    </tr>\n",
       "  </thead>\n",
       "  <tbody>\n",
       "    <tr>\n",
       "      <th>0</th>\n",
       "      <td>85</td>\n",
       "      <td>91</td>\n",
       "      <td>165</td>\n",
       "      <td>35</td>\n",
       "    </tr>\n",
       "  </tbody>\n",
       "</table>\n",
       "</div>"
      ],
      "text/plain": [
       "   18 A 25  26 A 35  36 A 50  50 PRA CIMA\n",
       "0       85       91      165           35"
      ]
     },
     "execution_count": 193,
     "metadata": {},
     "output_type": "execute_result"
    }
   ],
   "source": [
    "result"
   ]
  },
  {
   "cell_type": "markdown",
   "metadata": {},
   "source": [
    "A TABELA MOSTRA QUE O MAIOR NÚMERO DE FALHA ESTÁ ASSOCIADO AOS MOTORISTAS COM FAIXA ETÁRIA DE 36 A 50 ANOS."
   ]
  },
  {
   "cell_type": "markdown",
   "metadata": {},
   "source": [
    "# Referencias"
   ]
  },
  {
   "cell_type": "code",
   "execution_count": null,
   "metadata": {},
   "outputs": [],
   "source": []
  },
  {
   "cell_type": "markdown",
   "metadata": {},
   "source": [
    "https://pandas.pydata.org/pandas-docs/stable/style.html <br>\n",
    "https://pythonspot.com/matplotlib-bar-chart/<br>\n",
    "https://pandas.pydata.org/pandas-docs/stable/generated/pandas.DataFrame.loc.html <br>"
   ]
  }
 ],
 "metadata": {
  "kernelspec": {
   "display_name": "Python 3",
   "language": "python",
   "name": "python3"
  },
  "language_info": {
   "codemirror_mode": {
    "name": "ipython",
    "version": 3
   },
   "file_extension": ".py",
   "mimetype": "text/x-python",
   "name": "python",
   "nbconvert_exporter": "python",
   "pygments_lexer": "ipython3",
   "version": "3.7.0"
  }
 },
 "nbformat": 4,
 "nbformat_minor": 2
}
